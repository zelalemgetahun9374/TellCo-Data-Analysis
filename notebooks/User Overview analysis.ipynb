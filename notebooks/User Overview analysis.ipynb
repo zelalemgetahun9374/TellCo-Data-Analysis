{
 "cells": [
  {
   "cell_type": "markdown",
   "metadata": {},
   "source": [
    "# User Overview Analysis"
   ]
  },
  {
   "cell_type": "markdown",
   "metadata": {},
   "source": [
    "## Importing Libraries"
   ]
  },
  {
   "cell_type": "code",
   "execution_count": 1,
   "metadata": {},
   "outputs": [],
   "source": [
    "import numpy as np\n",
    "import pandas as pd"
   ]
  },
  {
   "cell_type": "markdown",
   "metadata": {},
   "source": [
    "## Utitlity Functions"
   ]
  },
  {
   "cell_type": "code",
   "execution_count": 2,
   "metadata": {},
   "outputs": [],
   "source": [
    "# how many missing values exist or better still what is the % of missing values in the dataset?\n",
    "def percent_missing(df):\n",
    "\n",
    "    # Calculate total number of cells in dataframe\n",
    "    totalCells = np.product(df.shape)\n",
    "\n",
    "    # Count number of missing values per column\n",
    "    missingCount = df.isnull().sum()\n",
    "\n",
    "    # Calculate total number of missing values\n",
    "    totalMissing = missingCount.sum()\n",
    "\n",
    "    # Calculate percentage of missing values\n",
    "    print(\"The dataset contains\", round(((totalMissing/totalCells) * 100), 2), \"%\", \"missing values.\")"
   ]
  },
  {
   "cell_type": "code",
   "execution_count": 3,
   "metadata": {},
   "outputs": [],
   "source": [
    "# Function to calculate missing values by column\n",
    "def missing_values_table(df):\n",
    "    # Total missing values\n",
    "    mis_val = df.isnull().sum()\n",
    "\n",
    "    # Percentage of missing values\n",
    "    mis_val_percent = 100 * mis_val / len(df)\n",
    "\n",
    "    # dtype of missing values\n",
    "    mis_val_dtype = df.dtypes\n",
    "\n",
    "    # Make a table with the results\n",
    "    mis_val_table = pd.concat([mis_val, mis_val_percent, mis_val_dtype], axis=1)\n",
    "\n",
    "    # Rename the columns\n",
    "    mis_val_table_ren_columns = mis_val_table.rename(\n",
    "    columns = {0 : 'Missing Values', 1 : '% of Total Values', 2: 'Dtype'})\n",
    "\n",
    "    # Sort the table by percentage of missing descending and remove columns with no missing values\n",
    "    mis_val_table_ren_columns = mis_val_table_ren_columns[\n",
    "        mis_val_table_ren_columns.iloc[:,0] != 0].sort_values(\n",
    "    '% of Total Values', ascending=False).round(2)\n",
    "\n",
    "    # Print some summary information\n",
    "    print (\"Your selected dataframe has \" + str(df.shape[1]) + \" columns.\\n\"\n",
    "        \"There are \" + str(mis_val_table_ren_columns.shape[0]) +\n",
    "          \" columns that have missing values.\")\n",
    "\n",
    "    # Return the dataframe with missing information\n",
    "    return mis_val_table_ren_columns"
   ]
  },
  {
   "cell_type": "code",
   "execution_count": 4,
   "metadata": {},
   "outputs": [],
   "source": [
    "def fix_missing_ffill(df, col):\n",
    "    df[col] = df[col].fillna(method='ffill')\n",
    "    return df[col]\n",
    "\n",
    "\n",
    "def fix_missing_bfill(df, col):\n",
    "    df[col] = df[col].fillna(method='bfill')\n",
    "    return df[col]\n",
    "\n"
   ]
  },
  {
   "cell_type": "markdown",
   "metadata": {},
   "source": [
    "## Reading Data"
   ]
  },
  {
   "cell_type": "code",
   "execution_count": 5,
   "metadata": {},
   "outputs": [
    {
     "data": {
      "text/html": "<div>\n<style scoped>\n    .dataframe tbody tr th:only-of-type {\n        vertical-align: middle;\n    }\n\n    .dataframe tbody tr th {\n        vertical-align: top;\n    }\n\n    .dataframe thead th {\n        text-align: right;\n    }\n</style>\n<table border=\"1\" class=\"dataframe\">\n  <thead>\n    <tr style=\"text-align: right;\">\n      <th></th>\n      <th>Bearer Id</th>\n      <th>Start</th>\n      <th>Start ms</th>\n      <th>End</th>\n      <th>End ms</th>\n      <th>Dur. (ms)</th>\n      <th>IMSI</th>\n      <th>MSISDN/Number</th>\n      <th>IMEI</th>\n      <th>Last Location Name</th>\n      <th>...</th>\n      <th>Youtube DL (Bytes)</th>\n      <th>Youtube UL (Bytes)</th>\n      <th>Netflix DL (Bytes)</th>\n      <th>Netflix UL (Bytes)</th>\n      <th>Gaming DL (Bytes)</th>\n      <th>Gaming UL (Bytes)</th>\n      <th>Other DL (Bytes)</th>\n      <th>Other UL (Bytes)</th>\n      <th>Total UL (Bytes)</th>\n      <th>Total DL (Bytes)</th>\n    </tr>\n  </thead>\n  <tbody>\n    <tr>\n      <th>0</th>\n      <td>1.311448e+19</td>\n      <td>4/4/2019 12:01</td>\n      <td>770.0</td>\n      <td>4/25/2019 14:35</td>\n      <td>662.0</td>\n      <td>1823652.0</td>\n      <td>2.082014e+14</td>\n      <td>3.366496e+10</td>\n      <td>3.552121e+13</td>\n      <td>9.16456699548519E+015</td>\n      <td>...</td>\n      <td>1.585461e+07</td>\n      <td>2.501332e+06</td>\n      <td>8.198936e+06</td>\n      <td>9.656251e+06</td>\n      <td>2.780823e+08</td>\n      <td>1.434415e+07</td>\n      <td>1.717444e+08</td>\n      <td>8.814393e+06</td>\n      <td>36749741.0</td>\n      <td>308879636.0</td>\n    </tr>\n    <tr>\n      <th>1</th>\n      <td>1.311448e+19</td>\n      <td>4/9/2019 13:04</td>\n      <td>235.0</td>\n      <td>4/25/2019 8:15</td>\n      <td>606.0</td>\n      <td>1365104.0</td>\n      <td>2.082019e+14</td>\n      <td>3.368185e+10</td>\n      <td>3.579401e+13</td>\n      <td>L77566A</td>\n      <td>...</td>\n      <td>2.024740e+07</td>\n      <td>1.911173e+07</td>\n      <td>1.833841e+07</td>\n      <td>1.722713e+07</td>\n      <td>6.087501e+08</td>\n      <td>1.170709e+06</td>\n      <td>5.269042e+08</td>\n      <td>1.505514e+07</td>\n      <td>53800391.0</td>\n      <td>653384965.0</td>\n    </tr>\n    <tr>\n      <th>2</th>\n      <td>1.311448e+19</td>\n      <td>4/9/2019 17:42</td>\n      <td>1.0</td>\n      <td>4/25/2019 11:58</td>\n      <td>652.0</td>\n      <td>1361762.0</td>\n      <td>2.082003e+14</td>\n      <td>3.376063e+10</td>\n      <td>3.528151e+13</td>\n      <td>D42335A</td>\n      <td>...</td>\n      <td>1.972566e+07</td>\n      <td>1.469958e+07</td>\n      <td>1.758779e+07</td>\n      <td>6.163408e+06</td>\n      <td>2.295846e+08</td>\n      <td>3.956300e+05</td>\n      <td>4.106926e+08</td>\n      <td>4.215763e+06</td>\n      <td>27883638.0</td>\n      <td>279807335.0</td>\n    </tr>\n    <tr>\n      <th>3</th>\n      <td>1.311448e+19</td>\n      <td>4/10/2019 0:31</td>\n      <td>486.0</td>\n      <td>4/25/2019 7:36</td>\n      <td>171.0</td>\n      <td>1321509.0</td>\n      <td>2.082014e+14</td>\n      <td>3.375034e+10</td>\n      <td>3.535661e+13</td>\n      <td>T21824A</td>\n      <td>...</td>\n      <td>2.138812e+07</td>\n      <td>1.514664e+07</td>\n      <td>1.399465e+07</td>\n      <td>1.097942e+06</td>\n      <td>7.995382e+08</td>\n      <td>1.084972e+07</td>\n      <td>7.490399e+08</td>\n      <td>1.279728e+07</td>\n      <td>43324218.0</td>\n      <td>846028530.0</td>\n    </tr>\n    <tr>\n      <th>4</th>\n      <td>1.311448e+19</td>\n      <td>4/12/2019 20:10</td>\n      <td>565.0</td>\n      <td>4/25/2019 10:40</td>\n      <td>954.0</td>\n      <td>1089009.0</td>\n      <td>2.082014e+14</td>\n      <td>3.369980e+10</td>\n      <td>3.540701e+13</td>\n      <td>D88865A</td>\n      <td>...</td>\n      <td>1.525938e+07</td>\n      <td>1.896287e+07</td>\n      <td>1.712458e+07</td>\n      <td>4.152180e+05</td>\n      <td>5.277072e+08</td>\n      <td>3.529801e+06</td>\n      <td>5.507095e+08</td>\n      <td>1.391032e+07</td>\n      <td>38542814.0</td>\n      <td>569138589.0</td>\n    </tr>\n    <tr>\n      <th>...</th>\n      <td>...</td>\n      <td>...</td>\n      <td>...</td>\n      <td>...</td>\n      <td>...</td>\n      <td>...</td>\n      <td>...</td>\n      <td>...</td>\n      <td>...</td>\n      <td>...</td>\n      <td>...</td>\n      <td>...</td>\n      <td>...</td>\n      <td>...</td>\n      <td>...</td>\n      <td>...</td>\n      <td>...</td>\n      <td>...</td>\n      <td>...</td>\n      <td>...</td>\n      <td>...</td>\n    </tr>\n    <tr>\n      <th>149996</th>\n      <td>7.277826e+18</td>\n      <td>4/29/2019 7:28</td>\n      <td>451.0</td>\n      <td>4/30/2019 6:02</td>\n      <td>214.0</td>\n      <td>81230.0</td>\n      <td>2.082022e+14</td>\n      <td>3.365069e+10</td>\n      <td>3.548311e+13</td>\n      <td>D20434A</td>\n      <td>...</td>\n      <td>1.619167e+07</td>\n      <td>1.176343e+07</td>\n      <td>1.788370e+07</td>\n      <td>1.967816e+07</td>\n      <td>5.266097e+08</td>\n      <td>9.197207e+06</td>\n      <td>3.264510e+06</td>\n      <td>1.348742e+07</td>\n      <td>57628851.0</td>\n      <td>574175259.0</td>\n    </tr>\n    <tr>\n      <th>149997</th>\n      <td>7.349883e+18</td>\n      <td>4/29/2019 7:28</td>\n      <td>483.0</td>\n      <td>4/30/2019 10:41</td>\n      <td>187.0</td>\n      <td>97970.0</td>\n      <td>2.082019e+14</td>\n      <td>3.366345e+10</td>\n      <td>3.566051e+13</td>\n      <td>D10223C</td>\n      <td>...</td>\n      <td>1.387723e+07</td>\n      <td>8.288284e+06</td>\n      <td>1.935015e+07</td>\n      <td>2.129315e+07</td>\n      <td>6.268931e+08</td>\n      <td>4.735033e+06</td>\n      <td>7.121804e+08</td>\n      <td>2.457758e+06</td>\n      <td>39135081.0</td>\n      <td>666648844.0</td>\n    </tr>\n    <tr>\n      <th>149998</th>\n      <td>1.311448e+19</td>\n      <td>4/29/2019 7:28</td>\n      <td>283.0</td>\n      <td>4/30/2019 10:46</td>\n      <td>810.0</td>\n      <td>98249.0</td>\n      <td>2.082017e+14</td>\n      <td>3.362189e+10</td>\n      <td>3.572121e+13</td>\n      <td>T51102A</td>\n      <td>...</td>\n      <td>2.266051e+07</td>\n      <td>1.855903e+06</td>\n      <td>9.963942e+06</td>\n      <td>5.065760e+06</td>\n      <td>5.535395e+08</td>\n      <td>1.339432e+07</td>\n      <td>1.211009e+08</td>\n      <td>1.131473e+07</td>\n      <td>34912224.0</td>\n      <td>592786405.0</td>\n    </tr>\n    <tr>\n      <th>149999</th>\n      <td>1.311448e+19</td>\n      <td>4/29/2019 7:28</td>\n      <td>696.0</td>\n      <td>4/30/2019 10:40</td>\n      <td>327.0</td>\n      <td>97910.0</td>\n      <td>2.082021e+14</td>\n      <td>3.361962e+10</td>\n      <td>8.618620e+13</td>\n      <td>L88342B</td>\n      <td>...</td>\n      <td>8.817106e+06</td>\n      <td>8.305402e+06</td>\n      <td>3.322253e+06</td>\n      <td>1.317259e+07</td>\n      <td>3.525370e+08</td>\n      <td>2.529475e+06</td>\n      <td>8.147131e+08</td>\n      <td>1.406930e+06</td>\n      <td>29626096.0</td>\n      <td>371895920.0</td>\n    </tr>\n    <tr>\n      <th>150000</th>\n      <td>NaN</td>\n      <td>NaN</td>\n      <td>NaN</td>\n      <td>NaN</td>\n      <td>NaN</td>\n      <td>NaN</td>\n      <td>NaN</td>\n      <td>NaN</td>\n      <td>NaN</td>\n      <td>NaN</td>\n      <td>...</td>\n      <td>1.163407e+07</td>\n      <td>1.100941e+07</td>\n      <td>1.162685e+07</td>\n      <td>1.100175e+07</td>\n      <td>4.220447e+08</td>\n      <td>8.288398e+06</td>\n      <td>4.211005e+08</td>\n      <td>8.264799e+06</td>\n      <td>NaN</td>\n      <td>NaN</td>\n    </tr>\n  </tbody>\n</table>\n<p>150001 rows × 55 columns</p>\n</div>",
      "text/plain": "           Bearer Id            Start  Start ms              End  End ms  \\\n0       1.311448e+19   4/4/2019 12:01     770.0  4/25/2019 14:35   662.0   \n1       1.311448e+19   4/9/2019 13:04     235.0   4/25/2019 8:15   606.0   \n2       1.311448e+19   4/9/2019 17:42       1.0  4/25/2019 11:58   652.0   \n3       1.311448e+19   4/10/2019 0:31     486.0   4/25/2019 7:36   171.0   \n4       1.311448e+19  4/12/2019 20:10     565.0  4/25/2019 10:40   954.0   \n...              ...              ...       ...              ...     ...   \n149996  7.277826e+18   4/29/2019 7:28     451.0   4/30/2019 6:02   214.0   \n149997  7.349883e+18   4/29/2019 7:28     483.0  4/30/2019 10:41   187.0   \n149998  1.311448e+19   4/29/2019 7:28     283.0  4/30/2019 10:46   810.0   \n149999  1.311448e+19   4/29/2019 7:28     696.0  4/30/2019 10:40   327.0   \n150000           NaN              NaN       NaN              NaN     NaN   \n\n        Dur. (ms)          IMSI  MSISDN/Number          IMEI  \\\n0       1823652.0  2.082014e+14   3.366496e+10  3.552121e+13   \n1       1365104.0  2.082019e+14   3.368185e+10  3.579401e+13   \n2       1361762.0  2.082003e+14   3.376063e+10  3.528151e+13   \n3       1321509.0  2.082014e+14   3.375034e+10  3.535661e+13   \n4       1089009.0  2.082014e+14   3.369980e+10  3.540701e+13   \n...           ...           ...            ...           ...   \n149996    81230.0  2.082022e+14   3.365069e+10  3.548311e+13   \n149997    97970.0  2.082019e+14   3.366345e+10  3.566051e+13   \n149998    98249.0  2.082017e+14   3.362189e+10  3.572121e+13   \n149999    97910.0  2.082021e+14   3.361962e+10  8.618620e+13   \n150000        NaN           NaN            NaN           NaN   \n\n           Last Location Name  ...  Youtube DL (Bytes)  Youtube UL (Bytes)  \\\n0       9.16456699548519E+015  ...        1.585461e+07        2.501332e+06   \n1                     L77566A  ...        2.024740e+07        1.911173e+07   \n2                     D42335A  ...        1.972566e+07        1.469958e+07   \n3                     T21824A  ...        2.138812e+07        1.514664e+07   \n4                     D88865A  ...        1.525938e+07        1.896287e+07   \n...                       ...  ...                 ...                 ...   \n149996                D20434A  ...        1.619167e+07        1.176343e+07   \n149997                D10223C  ...        1.387723e+07        8.288284e+06   \n149998                T51102A  ...        2.266051e+07        1.855903e+06   \n149999                L88342B  ...        8.817106e+06        8.305402e+06   \n150000                    NaN  ...        1.163407e+07        1.100941e+07   \n\n        Netflix DL (Bytes)  Netflix UL (Bytes)  Gaming DL (Bytes)  \\\n0             8.198936e+06        9.656251e+06       2.780823e+08   \n1             1.833841e+07        1.722713e+07       6.087501e+08   \n2             1.758779e+07        6.163408e+06       2.295846e+08   \n3             1.399465e+07        1.097942e+06       7.995382e+08   \n4             1.712458e+07        4.152180e+05       5.277072e+08   \n...                    ...                 ...                ...   \n149996        1.788370e+07        1.967816e+07       5.266097e+08   \n149997        1.935015e+07        2.129315e+07       6.268931e+08   \n149998        9.963942e+06        5.065760e+06       5.535395e+08   \n149999        3.322253e+06        1.317259e+07       3.525370e+08   \n150000        1.162685e+07        1.100175e+07       4.220447e+08   \n\n        Gaming UL (Bytes)  Other DL (Bytes)  Other UL (Bytes)  \\\n0            1.434415e+07      1.717444e+08      8.814393e+06   \n1            1.170709e+06      5.269042e+08      1.505514e+07   \n2            3.956300e+05      4.106926e+08      4.215763e+06   \n3            1.084972e+07      7.490399e+08      1.279728e+07   \n4            3.529801e+06      5.507095e+08      1.391032e+07   \n...                   ...               ...               ...   \n149996       9.197207e+06      3.264510e+06      1.348742e+07   \n149997       4.735033e+06      7.121804e+08      2.457758e+06   \n149998       1.339432e+07      1.211009e+08      1.131473e+07   \n149999       2.529475e+06      8.147131e+08      1.406930e+06   \n150000       8.288398e+06      4.211005e+08      8.264799e+06   \n\n        Total UL (Bytes)  Total DL (Bytes)  \n0             36749741.0       308879636.0  \n1             53800391.0       653384965.0  \n2             27883638.0       279807335.0  \n3             43324218.0       846028530.0  \n4             38542814.0       569138589.0  \n...                  ...               ...  \n149996        57628851.0       574175259.0  \n149997        39135081.0       666648844.0  \n149998        34912224.0       592786405.0  \n149999        29626096.0       371895920.0  \n150000               NaN               NaN  \n\n[150001 rows x 55 columns]"
     },
     "execution_count": 5,
     "metadata": {},
     "output_type": "execute_result"
    }
   ],
   "source": [
    "# reading the csv file\n",
    "missing_values = [\"n/a\", \"na\", \"undefined\"]\n",
    "tellco_df = pd.read_csv(\"../data/Week1_challenge_data_source.csv\", na_values=missing_values)\n",
    "tellco_df"
   ]
  },
  {
   "cell_type": "code",
   "execution_count": 6,
   "metadata": {},
   "outputs": [],
   "source": [
    "# this package is required to read from excel files\n",
    "!pip3 install openpyxl --quiet"
   ]
  },
  {
   "cell_type": "code",
   "execution_count": 7,
   "metadata": {},
   "outputs": [
    {
     "data": {
      "text/html": "<div>\n<style scoped>\n    .dataframe tbody tr th:only-of-type {\n        vertical-align: middle;\n    }\n\n    .dataframe tbody tr th {\n        vertical-align: top;\n    }\n\n    .dataframe thead th {\n        text-align: right;\n    }\n</style>\n<table border=\"1\" class=\"dataframe\">\n  <thead>\n    <tr style=\"text-align: right;\">\n      <th></th>\n      <th>Fields</th>\n      <th>Description</th>\n    </tr>\n  </thead>\n  <tbody>\n    <tr>\n      <th>0</th>\n      <td>bearer id</td>\n      <td>xDr session identifier</td>\n    </tr>\n    <tr>\n      <th>1</th>\n      <td>Dur. (ms)</td>\n      <td>Total Duration of the xDR (in ms)</td>\n    </tr>\n    <tr>\n      <th>2</th>\n      <td>Start</td>\n      <td>Start time of the xDR (first frame timestamp)</td>\n    </tr>\n    <tr>\n      <th>3</th>\n      <td>Start ms</td>\n      <td>Milliseconds offset of start time for the xDR ...</td>\n    </tr>\n    <tr>\n      <th>4</th>\n      <td>End</td>\n      <td>End time of the xDR (last frame timestamp)</td>\n    </tr>\n    <tr>\n      <th>5</th>\n      <td>End ms</td>\n      <td>Milliseconds offset of end time of the xDR (la...</td>\n    </tr>\n    <tr>\n      <th>6</th>\n      <td>Dur. (s)</td>\n      <td>Total Duration of the xDR (in s)</td>\n    </tr>\n    <tr>\n      <th>7</th>\n      <td>IMSI</td>\n      <td>International Mobile Subscriber Identity</td>\n    </tr>\n    <tr>\n      <th>8</th>\n      <td>MSISDN/Number</td>\n      <td>MS International PSTN/ISDN Number of mobile - ...</td>\n    </tr>\n    <tr>\n      <th>9</th>\n      <td>IMEI</td>\n      <td>International Mobile Equipment Identity</td>\n    </tr>\n    <tr>\n      <th>10</th>\n      <td>Last Location Name</td>\n      <td>User location call name (2G/3G/4G) at the end ...</td>\n    </tr>\n    <tr>\n      <th>11</th>\n      <td>Avg RTT DL (ms)</td>\n      <td>Average Round Trip Time measurement Downlink d...</td>\n    </tr>\n    <tr>\n      <th>12</th>\n      <td>Avg RTT UL (ms)</td>\n      <td>Average Round Trip Time measurement Uplink dir...</td>\n    </tr>\n    <tr>\n      <th>13</th>\n      <td>Avg Bearer TP DL (kbps)</td>\n      <td>Average Bearer Throughput for Downlink (kbps) ...</td>\n    </tr>\n    <tr>\n      <th>14</th>\n      <td>Avg Bearer TP UL (kbps)</td>\n      <td>Average Bearer Throughput for uplink (kbps) - ...</td>\n    </tr>\n    <tr>\n      <th>15</th>\n      <td>TCP DL Retrans. Vol (Bytes)</td>\n      <td>TCP volume of Downlink packets detected as ret...</td>\n    </tr>\n    <tr>\n      <th>16</th>\n      <td>TCP UL Retrans. Vol (Bytes)</td>\n      <td>TCP volume of Uplink packets detected as retra...</td>\n    </tr>\n    <tr>\n      <th>17</th>\n      <td>DL TP &lt; 50 Kbps (%)</td>\n      <td>Duration ratio when Bearer Downlink Throughput...</td>\n    </tr>\n    <tr>\n      <th>18</th>\n      <td>50 Kbps &lt; DL TP &lt; 250 Kbps (%)</td>\n      <td>Duration ratio when Bearer Downlink Throughput...</td>\n    </tr>\n    <tr>\n      <th>19</th>\n      <td>250 Kbps &lt; DL TP &lt; 1 Mbps (%)</td>\n      <td>Duration ratio when Bearer Downlink Throughput...</td>\n    </tr>\n    <tr>\n      <th>20</th>\n      <td>DL TP &gt; 1 Mbps (%)</td>\n      <td>Duration ratio when Bearer Downlink Throughput...</td>\n    </tr>\n    <tr>\n      <th>21</th>\n      <td>UL TP &lt; 10 Kbps (%)</td>\n      <td>Duration ratio when Bearer Uplink Throughput &lt; ….</td>\n    </tr>\n    <tr>\n      <th>22</th>\n      <td>10 Kbps &lt; UL TP &lt; 50 Kbps (%)</td>\n      <td>Duration ratio when Bearer Uplink Throughput r...</td>\n    </tr>\n    <tr>\n      <th>23</th>\n      <td>50 Kbps &lt; UL TP &lt; 300 Kbps (%)</td>\n      <td>Duration ratio when Bearer Uplink Throughput r...</td>\n    </tr>\n    <tr>\n      <th>24</th>\n      <td>UL TP &gt; 300 Kbps (%)</td>\n      <td>Duration ratio when Bearer Uplink Throughput &gt; ….</td>\n    </tr>\n    <tr>\n      <th>25</th>\n      <td>HTTP DL (Bytes)</td>\n      <td>HTTP data volume (in Bytes) received by the MS...</td>\n    </tr>\n    <tr>\n      <th>26</th>\n      <td>HTTP UL (Bytes)</td>\n      <td>HTTP data volume (in Bytes) sent by the MS dur...</td>\n    </tr>\n    <tr>\n      <th>27</th>\n      <td>Activity Duration DL (ms)</td>\n      <td>Activity Duration for downlink (ms) - excludin...</td>\n    </tr>\n    <tr>\n      <th>28</th>\n      <td>Activity Duration UL (ms)</td>\n      <td>Activity Duration for uplink (ms) - excluding ...</td>\n    </tr>\n    <tr>\n      <th>29</th>\n      <td>Dur. (ms).1</td>\n      <td>Total Duration of the xDR (in ms)</td>\n    </tr>\n    <tr>\n      <th>30</th>\n      <td>Handset Manufacturer</td>\n      <td>Handset manufacturer</td>\n    </tr>\n    <tr>\n      <th>31</th>\n      <td>Handset Type</td>\n      <td>Handset type of the mobile device</td>\n    </tr>\n    <tr>\n      <th>32</th>\n      <td>Nb of sec with 125000B &lt; Vol DL</td>\n      <td>Number of seconds with IP Volume DL &gt;</td>\n    </tr>\n    <tr>\n      <th>33</th>\n      <td>Nb of sec with 1250B &lt; Vol UL &lt; 6250B</td>\n      <td>Number of seconds with IP Volume UL between …</td>\n    </tr>\n    <tr>\n      <th>34</th>\n      <td>Nb of sec with 31250B &lt; Vol DL &lt; 125000B</td>\n      <td>Number of seconds with IP Volume DL between …</td>\n    </tr>\n    <tr>\n      <th>35</th>\n      <td>Nb of sec with 37500B &lt; Vol UL</td>\n      <td>Number of seconds with IP Volume UL &gt;</td>\n    </tr>\n    <tr>\n      <th>36</th>\n      <td>Nb of sec with 6250B &lt; Vol DL &lt; 31250B</td>\n      <td>Number of seconds with IP Volume DL between …</td>\n    </tr>\n    <tr>\n      <th>37</th>\n      <td>Nb of sec with 6250B &lt; Vol UL &lt; 37500B</td>\n      <td>Number of seconds with IP Volume UL between …</td>\n    </tr>\n    <tr>\n      <th>38</th>\n      <td>Nb of sec with Vol DL &lt; 6250B</td>\n      <td>Number of seconds with IP Volume DL &lt;</td>\n    </tr>\n    <tr>\n      <th>39</th>\n      <td>Nb of sec with Vol UL &lt; 1250B</td>\n      <td>Number of seconds with IP Volume UL &lt;</td>\n    </tr>\n    <tr>\n      <th>40</th>\n      <td>Social Media DL (Bytes)</td>\n      <td>Social Media data volume (in Bytes) received b...</td>\n    </tr>\n    <tr>\n      <th>41</th>\n      <td>Social Media UL (Bytes)</td>\n      <td>Social Media data volume (in Bytes) sent by th...</td>\n    </tr>\n    <tr>\n      <th>42</th>\n      <td>YouTube DL (Bytes)</td>\n      <td>YouTube data volume (in Bytes) received by the...</td>\n    </tr>\n    <tr>\n      <th>43</th>\n      <td>YouTube UL (Bytes)</td>\n      <td>YouTube data volume (in Bytes) sent by the MS ...</td>\n    </tr>\n    <tr>\n      <th>44</th>\n      <td>Netflix DL (Bytes)</td>\n      <td>Netflix data volume (in Bytes) received by the...</td>\n    </tr>\n    <tr>\n      <th>45</th>\n      <td>Netflix UL (Bytes)</td>\n      <td>Netflix data volume (in Bytes) sent by the MS ...</td>\n    </tr>\n    <tr>\n      <th>46</th>\n      <td>Google DL (Bytes)</td>\n      <td>Google data volume (in Bytes) Received by the ...</td>\n    </tr>\n    <tr>\n      <th>47</th>\n      <td>Google UL (Bytes)</td>\n      <td>Google data volume (in Bytes) sent by the MS d...</td>\n    </tr>\n    <tr>\n      <th>48</th>\n      <td>Email DL (Bytes)</td>\n      <td>Email data volume (in Bytes) Received by the M...</td>\n    </tr>\n    <tr>\n      <th>49</th>\n      <td>Email UL (Bytes)</td>\n      <td>Email data volume (in Bytes) sent by the MS du...</td>\n    </tr>\n    <tr>\n      <th>50</th>\n      <td>Gaming DL (Bytes)</td>\n      <td>Gaming data volume (in Bytes) Received by the ...</td>\n    </tr>\n    <tr>\n      <th>51</th>\n      <td>Gaming UL (Bytes)</td>\n      <td>Gaming data volume (in Bytes) sent by the MS d...</td>\n    </tr>\n    <tr>\n      <th>52</th>\n      <td>Other DL</td>\n      <td>Other data volume (in Bytes) received by the M...</td>\n    </tr>\n    <tr>\n      <th>53</th>\n      <td>Other UL</td>\n      <td>Other data volume (in Bytes) sent by the MS du...</td>\n    </tr>\n    <tr>\n      <th>54</th>\n      <td>Total DL (Bytes)</td>\n      <td>Data volume (in Bytes) received by the MS duri...</td>\n    </tr>\n    <tr>\n      <th>55</th>\n      <td>Total UL (Bytes)</td>\n      <td>Data volume (in Bytes) sent by the MS during t...</td>\n    </tr>\n  </tbody>\n</table>\n</div>",
      "text/plain": "                                      Fields  \\\n0                                  bearer id   \n1                                  Dur. (ms)   \n2                                      Start   \n3                                   Start ms   \n4                                        End   \n5                                     End ms   \n6                                   Dur. (s)   \n7                                       IMSI   \n8                              MSISDN/Number   \n9                                       IMEI   \n10                        Last Location Name   \n11                           Avg RTT DL (ms)   \n12                           Avg RTT UL (ms)   \n13                   Avg Bearer TP DL (kbps)   \n14                   Avg Bearer TP UL (kbps)   \n15               TCP DL Retrans. Vol (Bytes)   \n16               TCP UL Retrans. Vol (Bytes)   \n17                       DL TP < 50 Kbps (%)   \n18            50 Kbps < DL TP < 250 Kbps (%)   \n19             250 Kbps < DL TP < 1 Mbps (%)   \n20                        DL TP > 1 Mbps (%)   \n21                       UL TP < 10 Kbps (%)   \n22             10 Kbps < UL TP < 50 Kbps (%)   \n23            50 Kbps < UL TP < 300 Kbps (%)   \n24                      UL TP > 300 Kbps (%)   \n25                           HTTP DL (Bytes)   \n26                           HTTP UL (Bytes)   \n27                 Activity Duration DL (ms)   \n28                 Activity Duration UL (ms)   \n29                               Dur. (ms).1   \n30                      Handset Manufacturer   \n31                              Handset Type   \n32           Nb of sec with 125000B < Vol DL   \n33     Nb of sec with 1250B < Vol UL < 6250B   \n34  Nb of sec with 31250B < Vol DL < 125000B   \n35            Nb of sec with 37500B < Vol UL   \n36    Nb of sec with 6250B < Vol DL < 31250B   \n37    Nb of sec with 6250B < Vol UL < 37500B   \n38             Nb of sec with Vol DL < 6250B   \n39             Nb of sec with Vol UL < 1250B   \n40                   Social Media DL (Bytes)   \n41                   Social Media UL (Bytes)   \n42                        YouTube DL (Bytes)   \n43                        YouTube UL (Bytes)   \n44                        Netflix DL (Bytes)   \n45                        Netflix UL (Bytes)   \n46                         Google DL (Bytes)   \n47                         Google UL (Bytes)   \n48                          Email DL (Bytes)   \n49                          Email UL (Bytes)   \n50                         Gaming DL (Bytes)   \n51                         Gaming UL (Bytes)   \n52                                  Other DL   \n53                                  Other UL   \n54                          Total DL (Bytes)   \n55                          Total UL (Bytes)   \n\n                                          Description  \n0                              xDr session identifier  \n1                   Total Duration of the xDR (in ms)  \n2       Start time of the xDR (first frame timestamp)  \n3   Milliseconds offset of start time for the xDR ...  \n4          End time of the xDR (last frame timestamp)  \n5   Milliseconds offset of end time of the xDR (la...  \n6                    Total Duration of the xDR (in s)  \n7            International Mobile Subscriber Identity  \n8   MS International PSTN/ISDN Number of mobile - ...  \n9             International Mobile Equipment Identity  \n10  User location call name (2G/3G/4G) at the end ...  \n11  Average Round Trip Time measurement Downlink d...  \n12  Average Round Trip Time measurement Uplink dir...  \n13  Average Bearer Throughput for Downlink (kbps) ...  \n14  Average Bearer Throughput for uplink (kbps) - ...  \n15  TCP volume of Downlink packets detected as ret...  \n16  TCP volume of Uplink packets detected as retra...  \n17  Duration ratio when Bearer Downlink Throughput...  \n18  Duration ratio when Bearer Downlink Throughput...  \n19  Duration ratio when Bearer Downlink Throughput...  \n20  Duration ratio when Bearer Downlink Throughput...  \n21  Duration ratio when Bearer Uplink Throughput < ….  \n22  Duration ratio when Bearer Uplink Throughput r...  \n23  Duration ratio when Bearer Uplink Throughput r...  \n24  Duration ratio when Bearer Uplink Throughput > ….  \n25  HTTP data volume (in Bytes) received by the MS...  \n26  HTTP data volume (in Bytes) sent by the MS dur...  \n27  Activity Duration for downlink (ms) - excludin...  \n28  Activity Duration for uplink (ms) - excluding ...  \n29                  Total Duration of the xDR (in ms)  \n30                              Handset manufacturer   \n31                  Handset type of the mobile device  \n32              Number of seconds with IP Volume DL >  \n33      Number of seconds with IP Volume UL between …  \n34      Number of seconds with IP Volume DL between …  \n35              Number of seconds with IP Volume UL >  \n36      Number of seconds with IP Volume DL between …  \n37      Number of seconds with IP Volume UL between …  \n38              Number of seconds with IP Volume DL <  \n39              Number of seconds with IP Volume UL <  \n40  Social Media data volume (in Bytes) received b...  \n41  Social Media data volume (in Bytes) sent by th...  \n42  YouTube data volume (in Bytes) received by the...  \n43  YouTube data volume (in Bytes) sent by the MS ...  \n44  Netflix data volume (in Bytes) received by the...  \n45  Netflix data volume (in Bytes) sent by the MS ...  \n46  Google data volume (in Bytes) Received by the ...  \n47  Google data volume (in Bytes) sent by the MS d...  \n48  Email data volume (in Bytes) Received by the M...  \n49  Email data volume (in Bytes) sent by the MS du...  \n50  Gaming data volume (in Bytes) Received by the ...  \n51  Gaming data volume (in Bytes) sent by the MS d...  \n52  Other data volume (in Bytes) received by the M...  \n53  Other data volume (in Bytes) sent by the MS du...  \n54  Data volume (in Bytes) received by the MS duri...  \n55  Data volume (in Bytes) sent by the MS during t...  "
     },
     "execution_count": 7,
     "metadata": {},
     "output_type": "execute_result"
    }
   ],
   "source": [
    "# reading the field descriptions file\n",
    "tellco_field_desc_df = pd.read_excel(\"../data/Field Descriptions.xlsx\")\n",
    "tellco_field_desc_df"
   ]
  },
  {
   "cell_type": "code",
   "execution_count": 8,
   "metadata": {},
   "outputs": [
    {
     "data": {
      "text/plain": "56"
     },
     "execution_count": 8,
     "metadata": {},
     "output_type": "execute_result"
    }
   ],
   "source": [
    "len(tellco_field_desc_df)"
   ]
  },
  {
   "cell_type": "markdown",
   "metadata": {},
   "source": [
    "We have 56 columns with their names and descriptions as shown above."
   ]
  },
  {
   "cell_type": "markdown",
   "metadata": {},
   "source": [
    "## General Statistics"
   ]
  },
  {
   "cell_type": "code",
   "execution_count": 9,
   "metadata": {},
   "outputs": [
    {
     "data": {
      "text/plain": "8250055"
     },
     "execution_count": 9,
     "metadata": {},
     "output_type": "execute_result"
    }
   ],
   "source": [
    "# number of elements in the df\n",
    "tellco_df.size"
   ]
  },
  {
   "cell_type": "code",
   "execution_count": 10,
   "metadata": {},
   "outputs": [
    {
     "data": {
      "text/plain": "(150001, 55)"
     },
     "execution_count": 10,
     "metadata": {},
     "output_type": "execute_result"
    }
   ],
   "source": [
    "# rows and columns in the df\n",
    "tellco_df.shape"
   ]
  },
  {
   "cell_type": "code",
   "execution_count": 11,
   "metadata": {},
   "outputs": [
    {
     "name": "stdout",
     "output_type": "stream",
     "text": [
      "<class 'pandas.core.frame.DataFrame'>\n",
      "RangeIndex: 150001 entries, 0 to 150000\n",
      "Data columns (total 55 columns):\n",
      " #   Column                                    Non-Null Count   Dtype  \n",
      "---  ------                                    --------------   -----  \n",
      " 0   Bearer Id                                 149010 non-null  float64\n",
      " 1   Start                                     150000 non-null  object \n",
      " 2   Start ms                                  150000 non-null  float64\n",
      " 3   End                                       150000 non-null  object \n",
      " 4   End ms                                    150000 non-null  float64\n",
      " 5   Dur. (ms)                                 150000 non-null  float64\n",
      " 6   IMSI                                      149431 non-null  float64\n",
      " 7   MSISDN/Number                             148935 non-null  float64\n",
      " 8   IMEI                                      149429 non-null  float64\n",
      " 9   Last Location Name                        148848 non-null  object \n",
      " 10  Avg RTT DL (ms)                           122172 non-null  float64\n",
      " 11  Avg RTT UL (ms)                           122189 non-null  float64\n",
      " 12  Avg Bearer TP DL (kbps)                   150000 non-null  float64\n",
      " 13  Avg Bearer TP UL (kbps)                   150000 non-null  float64\n",
      " 14  TCP DL Retrans. Vol (Bytes)               61855 non-null   float64\n",
      " 15  TCP UL Retrans. Vol (Bytes)               53352 non-null   float64\n",
      " 16  DL TP < 50 Kbps (%)                       149247 non-null  float64\n",
      " 17  50 Kbps < DL TP < 250 Kbps (%)            149247 non-null  float64\n",
      " 18  250 Kbps < DL TP < 1 Mbps (%)             149247 non-null  float64\n",
      " 19  DL TP > 1 Mbps (%)                        149247 non-null  float64\n",
      " 20  UL TP < 10 Kbps (%)                       149209 non-null  float64\n",
      " 21  10 Kbps < UL TP < 50 Kbps (%)             149209 non-null  float64\n",
      " 22  50 Kbps < UL TP < 300 Kbps (%)            149209 non-null  float64\n",
      " 23  UL TP > 300 Kbps (%)                      149209 non-null  float64\n",
      " 24  HTTP DL (Bytes)                           68527 non-null   float64\n",
      " 25  HTTP UL (Bytes)                           68191 non-null   float64\n",
      " 26  Activity Duration DL (ms)                 150000 non-null  float64\n",
      " 27  Activity Duration UL (ms)                 150000 non-null  float64\n",
      " 28  Dur. (ms).1                               150000 non-null  float64\n",
      " 29  Handset Manufacturer                      140442 non-null  object \n",
      " 30  Handset Type                              140442 non-null  object \n",
      " 31  Nb of sec with 125000B < Vol DL           52463 non-null   float64\n",
      " 32  Nb of sec with 1250B < Vol UL < 6250B     57107 non-null   float64\n",
      " 33  Nb of sec with 31250B < Vol DL < 125000B  56415 non-null   float64\n",
      " 34  Nb of sec with 37500B < Vol UL            19747 non-null   float64\n",
      " 35  Nb of sec with 6250B < Vol DL < 31250B    61684 non-null   float64\n",
      " 36  Nb of sec with 6250B < Vol UL < 37500B    38158 non-null   float64\n",
      " 37  Nb of sec with Vol DL < 6250B             149246 non-null  float64\n",
      " 38  Nb of sec with Vol UL < 1250B             149208 non-null  float64\n",
      " 39  Social Media DL (Bytes)                   150001 non-null  float64\n",
      " 40  Social Media UL (Bytes)                   150001 non-null  float64\n",
      " 41  Google DL (Bytes)                         150001 non-null  float64\n",
      " 42  Google UL (Bytes)                         150001 non-null  float64\n",
      " 43  Email DL (Bytes)                          150001 non-null  float64\n",
      " 44  Email UL (Bytes)                          150001 non-null  float64\n",
      " 45  Youtube DL (Bytes)                        150001 non-null  float64\n",
      " 46  Youtube UL (Bytes)                        150001 non-null  float64\n",
      " 47  Netflix DL (Bytes)                        150001 non-null  float64\n",
      " 48  Netflix UL (Bytes)                        150001 non-null  float64\n",
      " 49  Gaming DL (Bytes)                         150001 non-null  float64\n",
      " 50  Gaming UL (Bytes)                         150001 non-null  float64\n",
      " 51  Other DL (Bytes)                          150001 non-null  float64\n",
      " 52  Other UL (Bytes)                          150001 non-null  float64\n",
      " 53  Total UL (Bytes)                          150000 non-null  float64\n",
      " 54  Total DL (Bytes)                          150000 non-null  float64\n",
      "dtypes: float64(50), object(5)\n",
      "memory usage: 62.9+ MB\n"
     ]
    }
   ],
   "source": [
    "tellco_df.info()"
   ]
  },
  {
   "cell_type": "code",
   "execution_count": 12,
   "metadata": {},
   "outputs": [
    {
     "data": {
      "text/html": "<div>\n<style scoped>\n    .dataframe tbody tr th:only-of-type {\n        vertical-align: middle;\n    }\n\n    .dataframe tbody tr th {\n        vertical-align: top;\n    }\n\n    .dataframe thead th {\n        text-align: right;\n    }\n</style>\n<table border=\"1\" class=\"dataframe\">\n  <thead>\n    <tr style=\"text-align: right;\">\n      <th></th>\n      <th>Bearer Id</th>\n      <th>Start ms</th>\n      <th>End ms</th>\n      <th>Dur. (ms)</th>\n      <th>IMSI</th>\n      <th>MSISDN/Number</th>\n      <th>IMEI</th>\n      <th>Avg RTT DL (ms)</th>\n      <th>Avg RTT UL (ms)</th>\n      <th>Avg Bearer TP DL (kbps)</th>\n      <th>...</th>\n      <th>Youtube DL (Bytes)</th>\n      <th>Youtube UL (Bytes)</th>\n      <th>Netflix DL (Bytes)</th>\n      <th>Netflix UL (Bytes)</th>\n      <th>Gaming DL (Bytes)</th>\n      <th>Gaming UL (Bytes)</th>\n      <th>Other DL (Bytes)</th>\n      <th>Other UL (Bytes)</th>\n      <th>Total UL (Bytes)</th>\n      <th>Total DL (Bytes)</th>\n    </tr>\n  </thead>\n  <tbody>\n    <tr>\n      <th>count</th>\n      <td>1.490100e+05</td>\n      <td>150000.000000</td>\n      <td>150000.000000</td>\n      <td>1.500000e+05</td>\n      <td>1.494310e+05</td>\n      <td>1.489350e+05</td>\n      <td>1.494290e+05</td>\n      <td>122172.000000</td>\n      <td>122189.000000</td>\n      <td>150000.000000</td>\n      <td>...</td>\n      <td>1.500010e+05</td>\n      <td>1.500010e+05</td>\n      <td>1.500010e+05</td>\n      <td>1.500010e+05</td>\n      <td>1.500010e+05</td>\n      <td>1.500010e+05</td>\n      <td>1.500010e+05</td>\n      <td>1.500010e+05</td>\n      <td>1.500000e+05</td>\n      <td>1.500000e+05</td>\n    </tr>\n    <tr>\n      <th>mean</th>\n      <td>1.013887e+19</td>\n      <td>499.188200</td>\n      <td>498.800880</td>\n      <td>1.046086e+05</td>\n      <td>2.082016e+14</td>\n      <td>4.188282e+10</td>\n      <td>4.847455e+13</td>\n      <td>109.795706</td>\n      <td>17.662883</td>\n      <td>13300.045927</td>\n      <td>...</td>\n      <td>1.163407e+07</td>\n      <td>1.100941e+07</td>\n      <td>1.162685e+07</td>\n      <td>1.100175e+07</td>\n      <td>4.220447e+08</td>\n      <td>8.288398e+06</td>\n      <td>4.211005e+08</td>\n      <td>8.264799e+06</td>\n      <td>4.112121e+07</td>\n      <td>4.546434e+08</td>\n    </tr>\n    <tr>\n      <th>std</th>\n      <td>2.893173e+18</td>\n      <td>288.611834</td>\n      <td>288.097653</td>\n      <td>8.103762e+04</td>\n      <td>2.148809e+10</td>\n      <td>2.447443e+12</td>\n      <td>2.241637e+13</td>\n      <td>619.782739</td>\n      <td>84.793524</td>\n      <td>23971.878541</td>\n      <td>...</td>\n      <td>6.710569e+06</td>\n      <td>6.345423e+06</td>\n      <td>6.725218e+06</td>\n      <td>6.359490e+06</td>\n      <td>2.439675e+08</td>\n      <td>4.782700e+06</td>\n      <td>2.432050e+08</td>\n      <td>4.769004e+06</td>\n      <td>1.127639e+07</td>\n      <td>2.441429e+08</td>\n    </tr>\n    <tr>\n      <th>min</th>\n      <td>6.917538e+18</td>\n      <td>0.000000</td>\n      <td>0.000000</td>\n      <td>7.142000e+03</td>\n      <td>2.040471e+14</td>\n      <td>3.360100e+10</td>\n      <td>4.400152e+11</td>\n      <td>0.000000</td>\n      <td>0.000000</td>\n      <td>0.000000</td>\n      <td>...</td>\n      <td>5.300000e+01</td>\n      <td>1.050000e+02</td>\n      <td>4.200000e+01</td>\n      <td>3.500000e+01</td>\n      <td>2.516000e+03</td>\n      <td>5.900000e+01</td>\n      <td>3.290000e+03</td>\n      <td>1.480000e+02</td>\n      <td>2.866892e+06</td>\n      <td>7.114041e+06</td>\n    </tr>\n    <tr>\n      <th>25%</th>\n      <td>7.349883e+18</td>\n      <td>250.000000</td>\n      <td>251.000000</td>\n      <td>5.744050e+04</td>\n      <td>2.082014e+14</td>\n      <td>3.365130e+10</td>\n      <td>3.546071e+13</td>\n      <td>32.000000</td>\n      <td>2.000000</td>\n      <td>43.000000</td>\n      <td>...</td>\n      <td>5.833501e+06</td>\n      <td>5.517965e+06</td>\n      <td>5.777156e+06</td>\n      <td>5.475981e+06</td>\n      <td>2.104733e+08</td>\n      <td>4.128476e+06</td>\n      <td>2.101869e+08</td>\n      <td>4.145943e+06</td>\n      <td>3.322201e+07</td>\n      <td>2.431068e+08</td>\n    </tr>\n    <tr>\n      <th>50%</th>\n      <td>7.349883e+18</td>\n      <td>499.000000</td>\n      <td>500.000000</td>\n      <td>8.639900e+04</td>\n      <td>2.082015e+14</td>\n      <td>3.366371e+10</td>\n      <td>3.572201e+13</td>\n      <td>45.000000</td>\n      <td>5.000000</td>\n      <td>63.000000</td>\n      <td>...</td>\n      <td>1.161602e+07</td>\n      <td>1.101345e+07</td>\n      <td>1.164222e+07</td>\n      <td>1.099638e+07</td>\n      <td>4.234081e+08</td>\n      <td>8.291208e+06</td>\n      <td>4.218030e+08</td>\n      <td>8.267071e+06</td>\n      <td>4.114331e+07</td>\n      <td>4.558411e+08</td>\n    </tr>\n    <tr>\n      <th>75%</th>\n      <td>1.304243e+19</td>\n      <td>749.000000</td>\n      <td>750.000000</td>\n      <td>1.324302e+05</td>\n      <td>2.082018e+14</td>\n      <td>3.368349e+10</td>\n      <td>8.611970e+13</td>\n      <td>70.000000</td>\n      <td>15.000000</td>\n      <td>19710.750000</td>\n      <td>...</td>\n      <td>1.744852e+07</td>\n      <td>1.651556e+07</td>\n      <td>1.747048e+07</td>\n      <td>1.650727e+07</td>\n      <td>6.331742e+08</td>\n      <td>1.243162e+07</td>\n      <td>6.316918e+08</td>\n      <td>1.238415e+07</td>\n      <td>4.903424e+07</td>\n      <td>6.657055e+08</td>\n    </tr>\n    <tr>\n      <th>max</th>\n      <td>1.318654e+19</td>\n      <td>999.000000</td>\n      <td>999.000000</td>\n      <td>1.859336e+06</td>\n      <td>2.140743e+14</td>\n      <td>8.823971e+14</td>\n      <td>9.900120e+13</td>\n      <td>96923.000000</td>\n      <td>7120.000000</td>\n      <td>378160.000000</td>\n      <td>...</td>\n      <td>2.325910e+07</td>\n      <td>2.201196e+07</td>\n      <td>2.325919e+07</td>\n      <td>2.201196e+07</td>\n      <td>8.434419e+08</td>\n      <td>1.655879e+07</td>\n      <td>8.434425e+08</td>\n      <td>1.655882e+07</td>\n      <td>7.833131e+07</td>\n      <td>9.029696e+08</td>\n    </tr>\n  </tbody>\n</table>\n<p>8 rows × 50 columns</p>\n</div>",
      "text/plain": "          Bearer Id       Start ms         End ms     Dur. (ms)          IMSI  \\\ncount  1.490100e+05  150000.000000  150000.000000  1.500000e+05  1.494310e+05   \nmean   1.013887e+19     499.188200     498.800880  1.046086e+05  2.082016e+14   \nstd    2.893173e+18     288.611834     288.097653  8.103762e+04  2.148809e+10   \nmin    6.917538e+18       0.000000       0.000000  7.142000e+03  2.040471e+14   \n25%    7.349883e+18     250.000000     251.000000  5.744050e+04  2.082014e+14   \n50%    7.349883e+18     499.000000     500.000000  8.639900e+04  2.082015e+14   \n75%    1.304243e+19     749.000000     750.000000  1.324302e+05  2.082018e+14   \nmax    1.318654e+19     999.000000     999.000000  1.859336e+06  2.140743e+14   \n\n       MSISDN/Number          IMEI  Avg RTT DL (ms)  Avg RTT UL (ms)  \\\ncount   1.489350e+05  1.494290e+05    122172.000000    122189.000000   \nmean    4.188282e+10  4.847455e+13       109.795706        17.662883   \nstd     2.447443e+12  2.241637e+13       619.782739        84.793524   \nmin     3.360100e+10  4.400152e+11         0.000000         0.000000   \n25%     3.365130e+10  3.546071e+13        32.000000         2.000000   \n50%     3.366371e+10  3.572201e+13        45.000000         5.000000   \n75%     3.368349e+10  8.611970e+13        70.000000        15.000000   \nmax     8.823971e+14  9.900120e+13     96923.000000      7120.000000   \n\n       Avg Bearer TP DL (kbps)  ...  Youtube DL (Bytes)  Youtube UL (Bytes)  \\\ncount            150000.000000  ...        1.500010e+05        1.500010e+05   \nmean              13300.045927  ...        1.163407e+07        1.100941e+07   \nstd               23971.878541  ...        6.710569e+06        6.345423e+06   \nmin                   0.000000  ...        5.300000e+01        1.050000e+02   \n25%                  43.000000  ...        5.833501e+06        5.517965e+06   \n50%                  63.000000  ...        1.161602e+07        1.101345e+07   \n75%               19710.750000  ...        1.744852e+07        1.651556e+07   \nmax              378160.000000  ...        2.325910e+07        2.201196e+07   \n\n       Netflix DL (Bytes)  Netflix UL (Bytes)  Gaming DL (Bytes)  \\\ncount        1.500010e+05        1.500010e+05       1.500010e+05   \nmean         1.162685e+07        1.100175e+07       4.220447e+08   \nstd          6.725218e+06        6.359490e+06       2.439675e+08   \nmin          4.200000e+01        3.500000e+01       2.516000e+03   \n25%          5.777156e+06        5.475981e+06       2.104733e+08   \n50%          1.164222e+07        1.099638e+07       4.234081e+08   \n75%          1.747048e+07        1.650727e+07       6.331742e+08   \nmax          2.325919e+07        2.201196e+07       8.434419e+08   \n\n       Gaming UL (Bytes)  Other DL (Bytes)  Other UL (Bytes)  \\\ncount       1.500010e+05      1.500010e+05      1.500010e+05   \nmean        8.288398e+06      4.211005e+08      8.264799e+06   \nstd         4.782700e+06      2.432050e+08      4.769004e+06   \nmin         5.900000e+01      3.290000e+03      1.480000e+02   \n25%         4.128476e+06      2.101869e+08      4.145943e+06   \n50%         8.291208e+06      4.218030e+08      8.267071e+06   \n75%         1.243162e+07      6.316918e+08      1.238415e+07   \nmax         1.655879e+07      8.434425e+08      1.655882e+07   \n\n       Total UL (Bytes)  Total DL (Bytes)  \ncount      1.500000e+05      1.500000e+05  \nmean       4.112121e+07      4.546434e+08  \nstd        1.127639e+07      2.441429e+08  \nmin        2.866892e+06      7.114041e+06  \n25%        3.322201e+07      2.431068e+08  \n50%        4.114331e+07      4.558411e+08  \n75%        4.903424e+07      6.657055e+08  \nmax        7.833131e+07      9.029696e+08  \n\n[8 rows x 50 columns]"
     },
     "execution_count": 12,
     "metadata": {},
     "output_type": "execute_result"
    }
   ],
   "source": [
    "# descriptive statistics that summarize the central tendency, dispersion of the df's numerical columns, excluding NaN values\n",
    "tellco_df.describe()"
   ]
  },
  {
   "cell_type": "markdown",
   "metadata": {},
   "source": [
    "It doesn't make sense to compute descriptive statistics for Beared Id, IMSI, MSISDN/Number and IMEI. But the describe method computes the statistics of all numeric columns. Another thing is these statisics are computed before the data is cleaned. So there might be changes after missing values and outliers are handled."
   ]
  },
  {
   "cell_type": "markdown",
   "metadata": {},
   "source": [
    "## Data Cleaning and Manipulation"
   ]
  },
  {
   "cell_type": "markdown",
   "metadata": {},
   "source": [
    "## Missing values"
   ]
  },
  {
   "cell_type": "code",
   "execution_count": 13,
   "metadata": {},
   "outputs": [
    {
     "name": "stdout",
     "output_type": "stream",
     "text": [
      "The dataset contains 12.72 % missing values.\n"
     ]
    }
   ],
   "source": [
    "percent_missing(tellco_df)"
   ]
  },
  {
   "cell_type": "code",
   "execution_count": 14,
   "metadata": {},
   "outputs": [
    {
     "name": "stdout",
     "output_type": "stream",
     "text": [
      "Your selected dataframe has 55 columns.\n",
      "There are 41 columns that have missing values.\n"
     ]
    }
   ],
   "source": [
    "missing_df = missing_values_table(tellco_df)"
   ]
  },
  {
   "cell_type": "code",
   "execution_count": 15,
   "metadata": {},
   "outputs": [
    {
     "data": {
      "text/html": "<div>\n<style scoped>\n    .dataframe tbody tr th:only-of-type {\n        vertical-align: middle;\n    }\n\n    .dataframe tbody tr th {\n        vertical-align: top;\n    }\n\n    .dataframe thead th {\n        text-align: right;\n    }\n</style>\n<table border=\"1\" class=\"dataframe\">\n  <thead>\n    <tr style=\"text-align: right;\">\n      <th></th>\n      <th>Missing Values</th>\n      <th>% of Total Values</th>\n      <th>Dtype</th>\n    </tr>\n  </thead>\n  <tbody>\n    <tr>\n      <th>Nb of sec with 37500B &lt; Vol UL</th>\n      <td>130254</td>\n      <td>86.84</td>\n      <td>float64</td>\n    </tr>\n    <tr>\n      <th>Nb of sec with 6250B &lt; Vol UL &lt; 37500B</th>\n      <td>111843</td>\n      <td>74.56</td>\n      <td>float64</td>\n    </tr>\n    <tr>\n      <th>Nb of sec with 125000B &lt; Vol DL</th>\n      <td>97538</td>\n      <td>65.02</td>\n      <td>float64</td>\n    </tr>\n    <tr>\n      <th>TCP UL Retrans. Vol (Bytes)</th>\n      <td>96649</td>\n      <td>64.43</td>\n      <td>float64</td>\n    </tr>\n    <tr>\n      <th>Nb of sec with 31250B &lt; Vol DL &lt; 125000B</th>\n      <td>93586</td>\n      <td>62.39</td>\n      <td>float64</td>\n    </tr>\n    <tr>\n      <th>Nb of sec with 1250B &lt; Vol UL &lt; 6250B</th>\n      <td>92894</td>\n      <td>61.93</td>\n      <td>float64</td>\n    </tr>\n    <tr>\n      <th>Nb of sec with 6250B &lt; Vol DL &lt; 31250B</th>\n      <td>88317</td>\n      <td>58.88</td>\n      <td>float64</td>\n    </tr>\n    <tr>\n      <th>TCP DL Retrans. Vol (Bytes)</th>\n      <td>88146</td>\n      <td>58.76</td>\n      <td>float64</td>\n    </tr>\n    <tr>\n      <th>HTTP UL (Bytes)</th>\n      <td>81810</td>\n      <td>54.54</td>\n      <td>float64</td>\n    </tr>\n    <tr>\n      <th>HTTP DL (Bytes)</th>\n      <td>81474</td>\n      <td>54.32</td>\n      <td>float64</td>\n    </tr>\n    <tr>\n      <th>Avg RTT DL (ms)</th>\n      <td>27829</td>\n      <td>18.55</td>\n      <td>float64</td>\n    </tr>\n    <tr>\n      <th>Avg RTT UL (ms)</th>\n      <td>27812</td>\n      <td>18.54</td>\n      <td>float64</td>\n    </tr>\n    <tr>\n      <th>Handset Manufacturer</th>\n      <td>9559</td>\n      <td>6.37</td>\n      <td>object</td>\n    </tr>\n    <tr>\n      <th>Handset Type</th>\n      <td>9559</td>\n      <td>6.37</td>\n      <td>object</td>\n    </tr>\n    <tr>\n      <th>Last Location Name</th>\n      <td>1153</td>\n      <td>0.77</td>\n      <td>object</td>\n    </tr>\n    <tr>\n      <th>MSISDN/Number</th>\n      <td>1066</td>\n      <td>0.71</td>\n      <td>float64</td>\n    </tr>\n    <tr>\n      <th>Bearer Id</th>\n      <td>991</td>\n      <td>0.66</td>\n      <td>float64</td>\n    </tr>\n    <tr>\n      <th>Nb of sec with Vol UL &lt; 1250B</th>\n      <td>793</td>\n      <td>0.53</td>\n      <td>float64</td>\n    </tr>\n    <tr>\n      <th>10 Kbps &lt; UL TP &lt; 50 Kbps (%)</th>\n      <td>792</td>\n      <td>0.53</td>\n      <td>float64</td>\n    </tr>\n    <tr>\n      <th>UL TP &gt; 300 Kbps (%)</th>\n      <td>792</td>\n      <td>0.53</td>\n      <td>float64</td>\n    </tr>\n    <tr>\n      <th>50 Kbps &lt; UL TP &lt; 300 Kbps (%)</th>\n      <td>792</td>\n      <td>0.53</td>\n      <td>float64</td>\n    </tr>\n    <tr>\n      <th>UL TP &lt; 10 Kbps (%)</th>\n      <td>792</td>\n      <td>0.53</td>\n      <td>float64</td>\n    </tr>\n    <tr>\n      <th>Nb of sec with Vol DL &lt; 6250B</th>\n      <td>755</td>\n      <td>0.50</td>\n      <td>float64</td>\n    </tr>\n    <tr>\n      <th>250 Kbps &lt; DL TP &lt; 1 Mbps (%)</th>\n      <td>754</td>\n      <td>0.50</td>\n      <td>float64</td>\n    </tr>\n    <tr>\n      <th>50 Kbps &lt; DL TP &lt; 250 Kbps (%)</th>\n      <td>754</td>\n      <td>0.50</td>\n      <td>float64</td>\n    </tr>\n    <tr>\n      <th>DL TP &lt; 50 Kbps (%)</th>\n      <td>754</td>\n      <td>0.50</td>\n      <td>float64</td>\n    </tr>\n    <tr>\n      <th>DL TP &gt; 1 Mbps (%)</th>\n      <td>754</td>\n      <td>0.50</td>\n      <td>float64</td>\n    </tr>\n    <tr>\n      <th>IMEI</th>\n      <td>572</td>\n      <td>0.38</td>\n      <td>float64</td>\n    </tr>\n    <tr>\n      <th>IMSI</th>\n      <td>570</td>\n      <td>0.38</td>\n      <td>float64</td>\n    </tr>\n    <tr>\n      <th>Start</th>\n      <td>1</td>\n      <td>0.00</td>\n      <td>object</td>\n    </tr>\n    <tr>\n      <th>End ms</th>\n      <td>1</td>\n      <td>0.00</td>\n      <td>float64</td>\n    </tr>\n    <tr>\n      <th>Total UL (Bytes)</th>\n      <td>1</td>\n      <td>0.00</td>\n      <td>float64</td>\n    </tr>\n    <tr>\n      <th>Start ms</th>\n      <td>1</td>\n      <td>0.00</td>\n      <td>float64</td>\n    </tr>\n    <tr>\n      <th>End</th>\n      <td>1</td>\n      <td>0.00</td>\n      <td>object</td>\n    </tr>\n    <tr>\n      <th>Avg Bearer TP DL (kbps)</th>\n      <td>1</td>\n      <td>0.00</td>\n      <td>float64</td>\n    </tr>\n    <tr>\n      <th>Dur. (ms)</th>\n      <td>1</td>\n      <td>0.00</td>\n      <td>float64</td>\n    </tr>\n    <tr>\n      <th>Avg Bearer TP UL (kbps)</th>\n      <td>1</td>\n      <td>0.00</td>\n      <td>float64</td>\n    </tr>\n    <tr>\n      <th>Dur. (ms).1</th>\n      <td>1</td>\n      <td>0.00</td>\n      <td>float64</td>\n    </tr>\n    <tr>\n      <th>Activity Duration UL (ms)</th>\n      <td>1</td>\n      <td>0.00</td>\n      <td>float64</td>\n    </tr>\n    <tr>\n      <th>Activity Duration DL (ms)</th>\n      <td>1</td>\n      <td>0.00</td>\n      <td>float64</td>\n    </tr>\n    <tr>\n      <th>Total DL (Bytes)</th>\n      <td>1</td>\n      <td>0.00</td>\n      <td>float64</td>\n    </tr>\n  </tbody>\n</table>\n</div>",
      "text/plain": "                                          Missing Values  % of Total Values  \\\nNb of sec with 37500B < Vol UL                    130254              86.84   \nNb of sec with 6250B < Vol UL < 37500B            111843              74.56   \nNb of sec with 125000B < Vol DL                    97538              65.02   \nTCP UL Retrans. Vol (Bytes)                        96649              64.43   \nNb of sec with 31250B < Vol DL < 125000B           93586              62.39   \nNb of sec with 1250B < Vol UL < 6250B              92894              61.93   \nNb of sec with 6250B < Vol DL < 31250B             88317              58.88   \nTCP DL Retrans. Vol (Bytes)                        88146              58.76   \nHTTP UL (Bytes)                                    81810              54.54   \nHTTP DL (Bytes)                                    81474              54.32   \nAvg RTT DL (ms)                                    27829              18.55   \nAvg RTT UL (ms)                                    27812              18.54   \nHandset Manufacturer                                9559               6.37   \nHandset Type                                        9559               6.37   \nLast Location Name                                  1153               0.77   \nMSISDN/Number                                       1066               0.71   \nBearer Id                                            991               0.66   \nNb of sec with Vol UL < 1250B                        793               0.53   \n10 Kbps < UL TP < 50 Kbps (%)                        792               0.53   \nUL TP > 300 Kbps (%)                                 792               0.53   \n50 Kbps < UL TP < 300 Kbps (%)                       792               0.53   \nUL TP < 10 Kbps (%)                                  792               0.53   \nNb of sec with Vol DL < 6250B                        755               0.50   \n250 Kbps < DL TP < 1 Mbps (%)                        754               0.50   \n50 Kbps < DL TP < 250 Kbps (%)                       754               0.50   \nDL TP < 50 Kbps (%)                                  754               0.50   \nDL TP > 1 Mbps (%)                                   754               0.50   \nIMEI                                                 572               0.38   \nIMSI                                                 570               0.38   \nStart                                                  1               0.00   \nEnd ms                                                 1               0.00   \nTotal UL (Bytes)                                       1               0.00   \nStart ms                                               1               0.00   \nEnd                                                    1               0.00   \nAvg Bearer TP DL (kbps)                                1               0.00   \nDur. (ms)                                              1               0.00   \nAvg Bearer TP UL (kbps)                                1               0.00   \nDur. (ms).1                                            1               0.00   \nActivity Duration UL (ms)                              1               0.00   \nActivity Duration DL (ms)                              1               0.00   \nTotal DL (Bytes)                                       1               0.00   \n\n                                            Dtype  \nNb of sec with 37500B < Vol UL            float64  \nNb of sec with 6250B < Vol UL < 37500B    float64  \nNb of sec with 125000B < Vol DL           float64  \nTCP UL Retrans. Vol (Bytes)               float64  \nNb of sec with 31250B < Vol DL < 125000B  float64  \nNb of sec with 1250B < Vol UL < 6250B     float64  \nNb of sec with 6250B < Vol DL < 31250B    float64  \nTCP DL Retrans. Vol (Bytes)               float64  \nHTTP UL (Bytes)                           float64  \nHTTP DL (Bytes)                           float64  \nAvg RTT DL (ms)                           float64  \nAvg RTT UL (ms)                           float64  \nHandset Manufacturer                       object  \nHandset Type                               object  \nLast Location Name                         object  \nMSISDN/Number                             float64  \nBearer Id                                 float64  \nNb of sec with Vol UL < 1250B             float64  \n10 Kbps < UL TP < 50 Kbps (%)             float64  \nUL TP > 300 Kbps (%)                      float64  \n50 Kbps < UL TP < 300 Kbps (%)            float64  \nUL TP < 10 Kbps (%)                       float64  \nNb of sec with Vol DL < 6250B             float64  \n250 Kbps < DL TP < 1 Mbps (%)             float64  \n50 Kbps < DL TP < 250 Kbps (%)            float64  \nDL TP < 50 Kbps (%)                       float64  \nDL TP > 1 Mbps (%)                        float64  \nIMEI                                      float64  \nIMSI                                      float64  \nStart                                      object  \nEnd ms                                    float64  \nTotal UL (Bytes)                          float64  \nStart ms                                  float64  \nEnd                                        object  \nAvg Bearer TP DL (kbps)                   float64  \nDur. (ms)                                 float64  \nAvg Bearer TP UL (kbps)                   float64  \nDur. (ms).1                               float64  \nActivity Duration UL (ms)                 float64  \nActivity Duration DL (ms)                 float64  \nTotal DL (Bytes)                          float64  "
     },
     "execution_count": 15,
     "metadata": {},
     "output_type": "execute_result"
    }
   ],
   "source": [
    "missing_df"
   ]
  },
  {
   "cell_type": "markdown",
   "metadata": {},
   "source": [
    "As a convention, it is good to remove columns with more than 30% of missing values."
   ]
  },
  {
   "cell_type": "code",
   "execution_count": 16,
   "metadata": {},
   "outputs": [
    {
     "data": {
      "text/plain": "['Nb of sec with 37500B < Vol UL',\n 'Nb of sec with 6250B < Vol UL < 37500B',\n 'Nb of sec with 125000B < Vol DL',\n 'TCP UL Retrans. Vol (Bytes)',\n 'Nb of sec with 31250B < Vol DL < 125000B',\n 'Nb of sec with 1250B < Vol UL < 6250B',\n 'Nb of sec with 6250B < Vol DL < 31250B',\n 'TCP DL Retrans. Vol (Bytes)',\n 'HTTP UL (Bytes)',\n 'HTTP DL (Bytes)']"
     },
     "execution_count": 16,
     "metadata": {},
     "output_type": "execute_result"
    }
   ],
   "source": [
    "columns_to_be_removed = missing_df[missing_df['% of Total Values'] >= 30.00].index.tolist()\n",
    "columns_to_be_removed"
   ]
  },
  {
   "cell_type": "code",
   "execution_count": 17,
   "metadata": {},
   "outputs": [
    {
     "data": {
      "text/plain": "(150001, 45)"
     },
     "execution_count": 17,
     "metadata": {},
     "output_type": "execute_result"
    }
   ],
   "source": [
    "tellco_clean = tellco_df.drop(columns_to_be_removed, axis=1)\n",
    "tellco_clean.shape"
   ]
  },
  {
   "cell_type": "markdown",
   "metadata": {},
   "source": [
    "Now let's check the status of missing values in the modified dataframe."
   ]
  },
  {
   "cell_type": "code",
   "execution_count": 18,
   "metadata": {},
   "outputs": [
    {
     "name": "stdout",
     "output_type": "stream",
     "text": [
      "The dataset contains 1.29 % missing values.\n"
     ]
    }
   ],
   "source": [
    "percent_missing(tellco_clean)"
   ]
  },
  {
   "cell_type": "code",
   "execution_count": 19,
   "metadata": {},
   "outputs": [
    {
     "name": "stdout",
     "output_type": "stream",
     "text": [
      "Your selected dataframe has 45 columns.\n",
      "There are 31 columns that have missing values.\n"
     ]
    },
    {
     "data": {
      "text/html": "<div>\n<style scoped>\n    .dataframe tbody tr th:only-of-type {\n        vertical-align: middle;\n    }\n\n    .dataframe tbody tr th {\n        vertical-align: top;\n    }\n\n    .dataframe thead th {\n        text-align: right;\n    }\n</style>\n<table border=\"1\" class=\"dataframe\">\n  <thead>\n    <tr style=\"text-align: right;\">\n      <th></th>\n      <th>Missing Values</th>\n      <th>% of Total Values</th>\n      <th>Dtype</th>\n    </tr>\n  </thead>\n  <tbody>\n    <tr>\n      <th>Avg RTT DL (ms)</th>\n      <td>27829</td>\n      <td>18.55</td>\n      <td>float64</td>\n    </tr>\n    <tr>\n      <th>Avg RTT UL (ms)</th>\n      <td>27812</td>\n      <td>18.54</td>\n      <td>float64</td>\n    </tr>\n    <tr>\n      <th>Handset Type</th>\n      <td>9559</td>\n      <td>6.37</td>\n      <td>object</td>\n    </tr>\n    <tr>\n      <th>Handset Manufacturer</th>\n      <td>9559</td>\n      <td>6.37</td>\n      <td>object</td>\n    </tr>\n    <tr>\n      <th>Last Location Name</th>\n      <td>1153</td>\n      <td>0.77</td>\n      <td>object</td>\n    </tr>\n    <tr>\n      <th>MSISDN/Number</th>\n      <td>1066</td>\n      <td>0.71</td>\n      <td>float64</td>\n    </tr>\n    <tr>\n      <th>Bearer Id</th>\n      <td>991</td>\n      <td>0.66</td>\n      <td>float64</td>\n    </tr>\n    <tr>\n      <th>Nb of sec with Vol UL &lt; 1250B</th>\n      <td>793</td>\n      <td>0.53</td>\n      <td>float64</td>\n    </tr>\n    <tr>\n      <th>UL TP &gt; 300 Kbps (%)</th>\n      <td>792</td>\n      <td>0.53</td>\n      <td>float64</td>\n    </tr>\n    <tr>\n      <th>50 Kbps &lt; UL TP &lt; 300 Kbps (%)</th>\n      <td>792</td>\n      <td>0.53</td>\n      <td>float64</td>\n    </tr>\n    <tr>\n      <th>10 Kbps &lt; UL TP &lt; 50 Kbps (%)</th>\n      <td>792</td>\n      <td>0.53</td>\n      <td>float64</td>\n    </tr>\n    <tr>\n      <th>UL TP &lt; 10 Kbps (%)</th>\n      <td>792</td>\n      <td>0.53</td>\n      <td>float64</td>\n    </tr>\n    <tr>\n      <th>Nb of sec with Vol DL &lt; 6250B</th>\n      <td>755</td>\n      <td>0.50</td>\n      <td>float64</td>\n    </tr>\n    <tr>\n      <th>250 Kbps &lt; DL TP &lt; 1 Mbps (%)</th>\n      <td>754</td>\n      <td>0.50</td>\n      <td>float64</td>\n    </tr>\n    <tr>\n      <th>DL TP &gt; 1 Mbps (%)</th>\n      <td>754</td>\n      <td>0.50</td>\n      <td>float64</td>\n    </tr>\n    <tr>\n      <th>50 Kbps &lt; DL TP &lt; 250 Kbps (%)</th>\n      <td>754</td>\n      <td>0.50</td>\n      <td>float64</td>\n    </tr>\n    <tr>\n      <th>DL TP &lt; 50 Kbps (%)</th>\n      <td>754</td>\n      <td>0.50</td>\n      <td>float64</td>\n    </tr>\n    <tr>\n      <th>IMEI</th>\n      <td>572</td>\n      <td>0.38</td>\n      <td>float64</td>\n    </tr>\n    <tr>\n      <th>IMSI</th>\n      <td>570</td>\n      <td>0.38</td>\n      <td>float64</td>\n    </tr>\n    <tr>\n      <th>Start</th>\n      <td>1</td>\n      <td>0.00</td>\n      <td>object</td>\n    </tr>\n    <tr>\n      <th>Avg Bearer TP UL (kbps)</th>\n      <td>1</td>\n      <td>0.00</td>\n      <td>float64</td>\n    </tr>\n    <tr>\n      <th>Avg Bearer TP DL (kbps)</th>\n      <td>1</td>\n      <td>0.00</td>\n      <td>float64</td>\n    </tr>\n    <tr>\n      <th>Activity Duration DL (ms)</th>\n      <td>1</td>\n      <td>0.00</td>\n      <td>float64</td>\n    </tr>\n    <tr>\n      <th>Activity Duration UL (ms)</th>\n      <td>1</td>\n      <td>0.00</td>\n      <td>float64</td>\n    </tr>\n    <tr>\n      <th>Dur. (ms).1</th>\n      <td>1</td>\n      <td>0.00</td>\n      <td>float64</td>\n    </tr>\n    <tr>\n      <th>Dur. (ms)</th>\n      <td>1</td>\n      <td>0.00</td>\n      <td>float64</td>\n    </tr>\n    <tr>\n      <th>End ms</th>\n      <td>1</td>\n      <td>0.00</td>\n      <td>float64</td>\n    </tr>\n    <tr>\n      <th>End</th>\n      <td>1</td>\n      <td>0.00</td>\n      <td>object</td>\n    </tr>\n    <tr>\n      <th>Start ms</th>\n      <td>1</td>\n      <td>0.00</td>\n      <td>float64</td>\n    </tr>\n    <tr>\n      <th>Total UL (Bytes)</th>\n      <td>1</td>\n      <td>0.00</td>\n      <td>float64</td>\n    </tr>\n    <tr>\n      <th>Total DL (Bytes)</th>\n      <td>1</td>\n      <td>0.00</td>\n      <td>float64</td>\n    </tr>\n  </tbody>\n</table>\n</div>",
      "text/plain": "                                Missing Values  % of Total Values    Dtype\nAvg RTT DL (ms)                          27829              18.55  float64\nAvg RTT UL (ms)                          27812              18.54  float64\nHandset Type                              9559               6.37   object\nHandset Manufacturer                      9559               6.37   object\nLast Location Name                        1153               0.77   object\nMSISDN/Number                             1066               0.71  float64\nBearer Id                                  991               0.66  float64\nNb of sec with Vol UL < 1250B              793               0.53  float64\nUL TP > 300 Kbps (%)                       792               0.53  float64\n50 Kbps < UL TP < 300 Kbps (%)             792               0.53  float64\n10 Kbps < UL TP < 50 Kbps (%)              792               0.53  float64\nUL TP < 10 Kbps (%)                        792               0.53  float64\nNb of sec with Vol DL < 6250B              755               0.50  float64\n250 Kbps < DL TP < 1 Mbps (%)              754               0.50  float64\nDL TP > 1 Mbps (%)                         754               0.50  float64\n50 Kbps < DL TP < 250 Kbps (%)             754               0.50  float64\nDL TP < 50 Kbps (%)                        754               0.50  float64\nIMEI                                       572               0.38  float64\nIMSI                                       570               0.38  float64\nStart                                        1               0.00   object\nAvg Bearer TP UL (kbps)                      1               0.00  float64\nAvg Bearer TP DL (kbps)                      1               0.00  float64\nActivity Duration DL (ms)                    1               0.00  float64\nActivity Duration UL (ms)                    1               0.00  float64\nDur. (ms).1                                  1               0.00  float64\nDur. (ms)                                    1               0.00  float64\nEnd ms                                       1               0.00  float64\nEnd                                          1               0.00   object\nStart ms                                     1               0.00  float64\nTotal UL (Bytes)                             1               0.00  float64\nTotal DL (Bytes)                             1               0.00  float64"
     },
     "execution_count": 19,
     "metadata": {},
     "output_type": "execute_result"
    }
   ],
   "source": [
    "missing_values_table(tellco_clean)"
   ]
  },
  {
   "cell_type": "code",
   "execution_count": null,
   "metadata": {},
   "outputs": [],
   "source": []
  }
 ],
 "metadata": {
  "kernelspec": {
   "display_name": "Python 3.8.5 64-bit",
   "name": "python385jvsc74a57bd0916dbcbb3f70747c44a77c7bcd40155683ae19c65e1c03b4aa3499c5328201f1"
  },
  "language_info": {
   "codemirror_mode": {
    "name": "ipython",
    "version": 3
   },
   "file_extension": ".py",
   "mimetype": "text/x-python",
   "name": "python",
   "nbconvert_exporter": "python",
   "pygments_lexer": "ipython3",
   "version": "3.8.5"
  },
  "metadata": {
   "interpreter": {
    "hash": "916dbcbb3f70747c44a77c7bcd40155683ae19c65e1c03b4aa3499c5328201f1"
   }
  },
  "orig_nbformat": 2
 },
 "nbformat": 4,
 "nbformat_minor": 2
}